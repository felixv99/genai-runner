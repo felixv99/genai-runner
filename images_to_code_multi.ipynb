{
  "nbformat": 4,
  "nbformat_minor": 0,
  "metadata": {
    "colab": {
      "provenance": [],
      "collapsed_sections": [
        "e0wQxkEwLQsE",
        "-Te5IahYBCkq",
        "Ziu5_Gl0zmw0",
        "JRbb8CogbDaf"
      ],
      "authorship_tag": "ABX9TyPiH+G/cOBxwiGdJ4S+EcWK"
    },
    "kernelspec": {
      "name": "python3",
      "display_name": "Python 3"
    },
    "language_info": {
      "name": "python"
    }
  },
  "cells": [
    {
      "cell_type": "code",
      "source": [
        "\n",
        "from google.colab import drive\n",
        "drive.mount('/content/drive')\n",
        "base_path = '/content/drive/MyDrive/thesis'"
      ],
      "metadata": {
        "colab": {
          "base_uri": "https://localhost:8080/"
        },
        "id": "5zEKdBrUMgma",
        "outputId": "7f06fa07-8207-41be-a6df-4b6d2cb44071"
      },
      "execution_count": 2,
      "outputs": [
        {
          "output_type": "stream",
          "name": "stdout",
          "text": [
            "Mounted at /content/drive\n"
          ]
        }
      ]
    },
    {
      "cell_type": "code",
      "execution_count": 3,
      "metadata": {
        "id": "eAKDGngGLov_"
      },
      "outputs": [],
      "source": [
        "\n",
        "\n",
        "import json\n",
        "import os\n",
        "\n",
        "def get_json_from_drive(full_path):\n",
        "  try:\n",
        "    with open(full_path, 'r') as f:\n",
        "      data = json.load(f)\n",
        "      return data\n",
        "      # Now you can work with the coco_data dictionary\n",
        "      #print(coco_data) # Example: print the entire JSON data\n",
        "\n",
        "  except FileNotFoundError:\n",
        "    print(f\"Error: File not found at {full_path}\")\n",
        "  except json.JSONDecodeError:\n",
        "    print(f\"Error: Invalid JSON format in {full_path}\")\n",
        "  except Exception as e:\n",
        "    print(f\"An unexpected error occurred: {e}\")\n",
        "\n",
        "\n",
        "coco_file_path = os.path.join(base_path,'result.json')\n",
        "paired_file_path = os.path.join(base_path,'paired_images.json')\n",
        "coco_data = get_json_from_drive(coco_file_path)\n",
        "paired_data = get_json_from_drive(paired_file_path)\n"
      ]
    },
    {
      "cell_type": "code",
      "source": [
        "\n",
        "import pandas as pd\n",
        "\n",
        "images_df = df = pd.json_normalize(paired_data, sep='_')\n",
        "categories_df = pd.DataFrame(coco_data['categories'])\n",
        "annotations_df = pd.DataFrame(coco_data['annotations'])\n",
        "\n",
        "print(\"Images DataFrame:\")\n",
        "print(images_df.head())  # Print the first few rows of the images DataFrame\n",
        "\n",
        "print(\"\\nCategories DataFrame:\")\n",
        "print(categories_df.head())  # Print the first few rows of the categories DataFrame\n",
        "\n",
        "print(\"\\nAnnotations DataFrame:\")\n",
        "print(annotations_df.head())  # Print the first few rows of the annotations DataFrame\n"
      ],
      "metadata": {
        "colab": {
          "base_uri": "https://localhost:8080/"
        },
        "id": "9oPnGf2yM9_h",
        "outputId": "447f8414-b1a2-4d52-81d6-a1d562d9ec95"
      },
      "execution_count": 4,
      "outputs": [
        {
          "output_type": "stream",
          "name": "stdout",
          "text": [
            "Images DataFrame:\n",
            "  id  img1_id           img1_file_name  img1_width  img1_height  img2_id  \\\n",
            "0  1        0  images\\45284b90-1-1.png        1920         1080        1   \n",
            "1  2        2  images\\b37d9d6f-2-1.png        1920         1080        3   \n",
            "2  3        4  images\\2f982b6e-3-1.png        1920         1080        5   \n",
            "3  4        6  images\\f3c937a7-4-1.png        1920         1080        7   \n",
            "4  5        8  images\\1660e214-5-1.png        1920         1080        9   \n",
            "\n",
            "            img2_file_name  img2_width  img2_height  \n",
            "0  images\\93e3cf51-1-2.png        1920         1080  \n",
            "1  images\\631eb68f-2-2.png        1920         1080  \n",
            "2  images\\42cc23b4-3-2.png        1920         1080  \n",
            "3  images\\09d515c5-4-2.png        1920         1080  \n",
            "4  images\\5cc01940-5-2.png        1920         1080  \n",
            "\n",
            "Categories DataFrame:\n",
            "   id                             name\n",
            "0   0                             Area\n",
            "1   1              Interactive element\n",
            "2   2         Main interactive element\n",
            "3   3  Repetitive interactive elements\n",
            "\n",
            "Annotations DataFrame:\n",
            "   id  image_id  category_id segmentation  \\\n",
            "0   0         0            2           []   \n",
            "1   1         0            1           []   \n",
            "2   2         0            1           []   \n",
            "3   3         0            1           []   \n",
            "4   4         0            1           []   \n",
            "\n",
            "                                                bbox  ignore  iscrowd  \\\n",
            "0  [904.9315068493152, 216.98630136986299, 64.109...       0        0   \n",
            "1  [1018.3561643835617, 216.98630136986299, 83.83...       0        0   \n",
            "2  [1136.7123287671234, 212.05479452054792, 88.76...       0        0   \n",
            "3  [1284.6575342465758, 212.05479452054792, 73.97...       0        0   \n",
            "4  [1378.3561643835617, 212.05479452054792, 98.63...       0        0   \n",
            "\n",
            "          area  \n",
            "0  2213.098142  \n",
            "1  2480.615500  \n",
            "2  3502.045412  \n",
            "3  2918.371177  \n",
            "4  3891.161569  \n"
          ]
        }
      ]
    },
    {
      "cell_type": "markdown",
      "source": [
        "###Save paired image ids as json"
      ],
      "metadata": {
        "id": "e0wQxkEwLQsE"
      }
    },
    {
      "cell_type": "code",
      "source": [
        "import pandas as pd\n",
        "import re\n",
        "\n",
        "def create_image_pairs(df):\n",
        "    \"\"\"\n",
        "    Create pairs of related images based on file names.\n",
        "\n",
        "    Parameters:\n",
        "    df (pandas.DataFrame): DataFrame containing image information with columns:\n",
        "        - width\n",
        "        - height\n",
        "        - id\n",
        "        - file_name\n",
        "\n",
        "    Returns:\n",
        "    pandas.DataFrame: DataFrame with paired images and their metadata\n",
        "    \"\"\"\n",
        "    # Extract the sequence number from file names (the number before the last dash)\n",
        "    df['pair_id'] = df['file_name'].apply(lambda x: re.search(r'.*?(\\d+)-[12]\\.png$', x).group(1))\n",
        "\n",
        "    # Create separate DataFrames for images ending with -1 and -2\n",
        "    df_1 = df[df['file_name'].str.endswith('-1.png')].copy()\n",
        "    df_2 = df[df['file_name'].str.endswith('-2.png')].copy()\n",
        "\n",
        "    # Rename columns to distinguish between image 1 and image 2\n",
        "    df_1.columns = [f'img1_{col}' if col != 'pair_id' else col for col in df_1.columns]\n",
        "    df_2.columns = [f'img2_{col}' if col != 'pair_id' else col for col in df_2.columns]\n",
        "\n",
        "    # Merge the DataFrames based on pair_id\n",
        "    paired_df = pd.merge(df_1, df_2, on='pair_id', how='inner')\n",
        "\n",
        "    # Drop the temporary pair_id column\n",
        "    #paired_df = paired_df.drop(['pair_id'], axis=1)\n",
        "\n",
        "    return paired_df\n",
        "\n",
        "# Example usage:\n",
        "\n",
        "paired_df = create_image_pairs(images_df)\n",
        "paired_df.head(5)\n",
        "#paired_df.shape[0]\n"
      ],
      "metadata": {
        "colab": {
          "base_uri": "https://localhost:8080/",
          "height": 313
        },
        "id": "ZaMPWbsoPeVZ",
        "outputId": "cc81436d-3f49-41f7-a8c5-035320f82d47"
      },
      "execution_count": null,
      "outputs": [
        {
          "output_type": "execute_result",
          "data": {
            "text/plain": [
              "   img1_width  img1_height  img1_id           img1_file_name pair_id  \\\n",
              "0        1920         1080        0  images\\45284b90-1-1.png       1   \n",
              "1        1920         1080        2  images\\b37d9d6f-2-1.png       2   \n",
              "2        1920         1080        4  images\\2f982b6e-3-1.png       3   \n",
              "3        1920         1080        6  images\\f3c937a7-4-1.png       4   \n",
              "4        1920         1080        8  images\\1660e214-5-1.png       5   \n",
              "\n",
              "   img2_width  img2_height  img2_id           img2_file_name  \n",
              "0        1920         1080        1  images\\93e3cf51-1-2.png  \n",
              "1        1920         1080        3  images\\631eb68f-2-2.png  \n",
              "2        1920         1080        5  images\\42cc23b4-3-2.png  \n",
              "3        1920         1080        7  images\\09d515c5-4-2.png  \n",
              "4        1920         1080        9  images\\5cc01940-5-2.png  "
            ],
            "text/html": [
              "\n",
              "  <div id=\"df-ddca4f2f-cbfc-40f1-b16b-da82f3857776\" class=\"colab-df-container\">\n",
              "    <div>\n",
              "<style scoped>\n",
              "    .dataframe tbody tr th:only-of-type {\n",
              "        vertical-align: middle;\n",
              "    }\n",
              "\n",
              "    .dataframe tbody tr th {\n",
              "        vertical-align: top;\n",
              "    }\n",
              "\n",
              "    .dataframe thead th {\n",
              "        text-align: right;\n",
              "    }\n",
              "</style>\n",
              "<table border=\"1\" class=\"dataframe\">\n",
              "  <thead>\n",
              "    <tr style=\"text-align: right;\">\n",
              "      <th></th>\n",
              "      <th>img1_width</th>\n",
              "      <th>img1_height</th>\n",
              "      <th>img1_id</th>\n",
              "      <th>img1_file_name</th>\n",
              "      <th>pair_id</th>\n",
              "      <th>img2_width</th>\n",
              "      <th>img2_height</th>\n",
              "      <th>img2_id</th>\n",
              "      <th>img2_file_name</th>\n",
              "    </tr>\n",
              "  </thead>\n",
              "  <tbody>\n",
              "    <tr>\n",
              "      <th>0</th>\n",
              "      <td>1920</td>\n",
              "      <td>1080</td>\n",
              "      <td>0</td>\n",
              "      <td>images\\45284b90-1-1.png</td>\n",
              "      <td>1</td>\n",
              "      <td>1920</td>\n",
              "      <td>1080</td>\n",
              "      <td>1</td>\n",
              "      <td>images\\93e3cf51-1-2.png</td>\n",
              "    </tr>\n",
              "    <tr>\n",
              "      <th>1</th>\n",
              "      <td>1920</td>\n",
              "      <td>1080</td>\n",
              "      <td>2</td>\n",
              "      <td>images\\b37d9d6f-2-1.png</td>\n",
              "      <td>2</td>\n",
              "      <td>1920</td>\n",
              "      <td>1080</td>\n",
              "      <td>3</td>\n",
              "      <td>images\\631eb68f-2-2.png</td>\n",
              "    </tr>\n",
              "    <tr>\n",
              "      <th>2</th>\n",
              "      <td>1920</td>\n",
              "      <td>1080</td>\n",
              "      <td>4</td>\n",
              "      <td>images\\2f982b6e-3-1.png</td>\n",
              "      <td>3</td>\n",
              "      <td>1920</td>\n",
              "      <td>1080</td>\n",
              "      <td>5</td>\n",
              "      <td>images\\42cc23b4-3-2.png</td>\n",
              "    </tr>\n",
              "    <tr>\n",
              "      <th>3</th>\n",
              "      <td>1920</td>\n",
              "      <td>1080</td>\n",
              "      <td>6</td>\n",
              "      <td>images\\f3c937a7-4-1.png</td>\n",
              "      <td>4</td>\n",
              "      <td>1920</td>\n",
              "      <td>1080</td>\n",
              "      <td>7</td>\n",
              "      <td>images\\09d515c5-4-2.png</td>\n",
              "    </tr>\n",
              "    <tr>\n",
              "      <th>4</th>\n",
              "      <td>1920</td>\n",
              "      <td>1080</td>\n",
              "      <td>8</td>\n",
              "      <td>images\\1660e214-5-1.png</td>\n",
              "      <td>5</td>\n",
              "      <td>1920</td>\n",
              "      <td>1080</td>\n",
              "      <td>9</td>\n",
              "      <td>images\\5cc01940-5-2.png</td>\n",
              "    </tr>\n",
              "  </tbody>\n",
              "</table>\n",
              "</div>\n",
              "    <div class=\"colab-df-buttons\">\n",
              "\n",
              "  <div class=\"colab-df-container\">\n",
              "    <button class=\"colab-df-convert\" onclick=\"convertToInteractive('df-ddca4f2f-cbfc-40f1-b16b-da82f3857776')\"\n",
              "            title=\"Convert this dataframe to an interactive table.\"\n",
              "            style=\"display:none;\">\n",
              "\n",
              "  <svg xmlns=\"http://www.w3.org/2000/svg\" height=\"24px\" viewBox=\"0 -960 960 960\">\n",
              "    <path d=\"M120-120v-720h720v720H120Zm60-500h600v-160H180v160Zm220 220h160v-160H400v160Zm0 220h160v-160H400v160ZM180-400h160v-160H180v160Zm440 0h160v-160H620v160ZM180-180h160v-160H180v160Zm440 0h160v-160H620v160Z\"/>\n",
              "  </svg>\n",
              "    </button>\n",
              "\n",
              "  <style>\n",
              "    .colab-df-container {\n",
              "      display:flex;\n",
              "      gap: 12px;\n",
              "    }\n",
              "\n",
              "    .colab-df-convert {\n",
              "      background-color: #E8F0FE;\n",
              "      border: none;\n",
              "      border-radius: 50%;\n",
              "      cursor: pointer;\n",
              "      display: none;\n",
              "      fill: #1967D2;\n",
              "      height: 32px;\n",
              "      padding: 0 0 0 0;\n",
              "      width: 32px;\n",
              "    }\n",
              "\n",
              "    .colab-df-convert:hover {\n",
              "      background-color: #E2EBFA;\n",
              "      box-shadow: 0px 1px 2px rgba(60, 64, 67, 0.3), 0px 1px 3px 1px rgba(60, 64, 67, 0.15);\n",
              "      fill: #174EA6;\n",
              "    }\n",
              "\n",
              "    .colab-df-buttons div {\n",
              "      margin-bottom: 4px;\n",
              "    }\n",
              "\n",
              "    [theme=dark] .colab-df-convert {\n",
              "      background-color: #3B4455;\n",
              "      fill: #D2E3FC;\n",
              "    }\n",
              "\n",
              "    [theme=dark] .colab-df-convert:hover {\n",
              "      background-color: #434B5C;\n",
              "      box-shadow: 0px 1px 3px 1px rgba(0, 0, 0, 0.15);\n",
              "      filter: drop-shadow(0px 1px 2px rgba(0, 0, 0, 0.3));\n",
              "      fill: #FFFFFF;\n",
              "    }\n",
              "  </style>\n",
              "\n",
              "    <script>\n",
              "      const buttonEl =\n",
              "        document.querySelector('#df-ddca4f2f-cbfc-40f1-b16b-da82f3857776 button.colab-df-convert');\n",
              "      buttonEl.style.display =\n",
              "        google.colab.kernel.accessAllowed ? 'block' : 'none';\n",
              "\n",
              "      async function convertToInteractive(key) {\n",
              "        const element = document.querySelector('#df-ddca4f2f-cbfc-40f1-b16b-da82f3857776');\n",
              "        const dataTable =\n",
              "          await google.colab.kernel.invokeFunction('convertToInteractive',\n",
              "                                                    [key], {});\n",
              "        if (!dataTable) return;\n",
              "\n",
              "        const docLinkHtml = 'Like what you see? Visit the ' +\n",
              "          '<a target=\"_blank\" href=https://colab.research.google.com/notebooks/data_table.ipynb>data table notebook</a>'\n",
              "          + ' to learn more about interactive tables.';\n",
              "        element.innerHTML = '';\n",
              "        dataTable['output_type'] = 'display_data';\n",
              "        await google.colab.output.renderOutput(dataTable, element);\n",
              "        const docLink = document.createElement('div');\n",
              "        docLink.innerHTML = docLinkHtml;\n",
              "        element.appendChild(docLink);\n",
              "      }\n",
              "    </script>\n",
              "  </div>\n",
              "\n",
              "\n",
              "<div id=\"df-4b9be92f-9003-4523-80c4-30bc2c748456\">\n",
              "  <button class=\"colab-df-quickchart\" onclick=\"quickchart('df-4b9be92f-9003-4523-80c4-30bc2c748456')\"\n",
              "            title=\"Suggest charts\"\n",
              "            style=\"display:none;\">\n",
              "\n",
              "<svg xmlns=\"http://www.w3.org/2000/svg\" height=\"24px\"viewBox=\"0 0 24 24\"\n",
              "     width=\"24px\">\n",
              "    <g>\n",
              "        <path d=\"M19 3H5c-1.1 0-2 .9-2 2v14c0 1.1.9 2 2 2h14c1.1 0 2-.9 2-2V5c0-1.1-.9-2-2-2zM9 17H7v-7h2v7zm4 0h-2V7h2v10zm4 0h-2v-4h2v4z\"/>\n",
              "    </g>\n",
              "</svg>\n",
              "  </button>\n",
              "\n",
              "<style>\n",
              "  .colab-df-quickchart {\n",
              "      --bg-color: #E8F0FE;\n",
              "      --fill-color: #1967D2;\n",
              "      --hover-bg-color: #E2EBFA;\n",
              "      --hover-fill-color: #174EA6;\n",
              "      --disabled-fill-color: #AAA;\n",
              "      --disabled-bg-color: #DDD;\n",
              "  }\n",
              "\n",
              "  [theme=dark] .colab-df-quickchart {\n",
              "      --bg-color: #3B4455;\n",
              "      --fill-color: #D2E3FC;\n",
              "      --hover-bg-color: #434B5C;\n",
              "      --hover-fill-color: #FFFFFF;\n",
              "      --disabled-bg-color: #3B4455;\n",
              "      --disabled-fill-color: #666;\n",
              "  }\n",
              "\n",
              "  .colab-df-quickchart {\n",
              "    background-color: var(--bg-color);\n",
              "    border: none;\n",
              "    border-radius: 50%;\n",
              "    cursor: pointer;\n",
              "    display: none;\n",
              "    fill: var(--fill-color);\n",
              "    height: 32px;\n",
              "    padding: 0;\n",
              "    width: 32px;\n",
              "  }\n",
              "\n",
              "  .colab-df-quickchart:hover {\n",
              "    background-color: var(--hover-bg-color);\n",
              "    box-shadow: 0 1px 2px rgba(60, 64, 67, 0.3), 0 1px 3px 1px rgba(60, 64, 67, 0.15);\n",
              "    fill: var(--button-hover-fill-color);\n",
              "  }\n",
              "\n",
              "  .colab-df-quickchart-complete:disabled,\n",
              "  .colab-df-quickchart-complete:disabled:hover {\n",
              "    background-color: var(--disabled-bg-color);\n",
              "    fill: var(--disabled-fill-color);\n",
              "    box-shadow: none;\n",
              "  }\n",
              "\n",
              "  .colab-df-spinner {\n",
              "    border: 2px solid var(--fill-color);\n",
              "    border-color: transparent;\n",
              "    border-bottom-color: var(--fill-color);\n",
              "    animation:\n",
              "      spin 1s steps(1) infinite;\n",
              "  }\n",
              "\n",
              "  @keyframes spin {\n",
              "    0% {\n",
              "      border-color: transparent;\n",
              "      border-bottom-color: var(--fill-color);\n",
              "      border-left-color: var(--fill-color);\n",
              "    }\n",
              "    20% {\n",
              "      border-color: transparent;\n",
              "      border-left-color: var(--fill-color);\n",
              "      border-top-color: var(--fill-color);\n",
              "    }\n",
              "    30% {\n",
              "      border-color: transparent;\n",
              "      border-left-color: var(--fill-color);\n",
              "      border-top-color: var(--fill-color);\n",
              "      border-right-color: var(--fill-color);\n",
              "    }\n",
              "    40% {\n",
              "      border-color: transparent;\n",
              "      border-right-color: var(--fill-color);\n",
              "      border-top-color: var(--fill-color);\n",
              "    }\n",
              "    60% {\n",
              "      border-color: transparent;\n",
              "      border-right-color: var(--fill-color);\n",
              "    }\n",
              "    80% {\n",
              "      border-color: transparent;\n",
              "      border-right-color: var(--fill-color);\n",
              "      border-bottom-color: var(--fill-color);\n",
              "    }\n",
              "    90% {\n",
              "      border-color: transparent;\n",
              "      border-bottom-color: var(--fill-color);\n",
              "    }\n",
              "  }\n",
              "</style>\n",
              "\n",
              "  <script>\n",
              "    async function quickchart(key) {\n",
              "      const quickchartButtonEl =\n",
              "        document.querySelector('#' + key + ' button');\n",
              "      quickchartButtonEl.disabled = true;  // To prevent multiple clicks.\n",
              "      quickchartButtonEl.classList.add('colab-df-spinner');\n",
              "      try {\n",
              "        const charts = await google.colab.kernel.invokeFunction(\n",
              "            'suggestCharts', [key], {});\n",
              "      } catch (error) {\n",
              "        console.error('Error during call to suggestCharts:', error);\n",
              "      }\n",
              "      quickchartButtonEl.classList.remove('colab-df-spinner');\n",
              "      quickchartButtonEl.classList.add('colab-df-quickchart-complete');\n",
              "    }\n",
              "    (() => {\n",
              "      let quickchartButtonEl =\n",
              "        document.querySelector('#df-4b9be92f-9003-4523-80c4-30bc2c748456 button');\n",
              "      quickchartButtonEl.style.display =\n",
              "        google.colab.kernel.accessAllowed ? 'block' : 'none';\n",
              "    })();\n",
              "  </script>\n",
              "</div>\n",
              "\n",
              "    </div>\n",
              "  </div>\n"
            ],
            "application/vnd.google.colaboratory.intrinsic+json": {
              "type": "dataframe",
              "summary": "{\n  \"name\": \"#paired_df\",\n  \"rows\": 5,\n  \"fields\": [\n    {\n      \"column\": \"img1_width\",\n      \"properties\": {\n        \"dtype\": \"number\",\n        \"std\": 0,\n        \"min\": 1920,\n        \"max\": 1920,\n        \"num_unique_values\": 1,\n        \"samples\": [\n          1920\n        ],\n        \"semantic_type\": \"\",\n        \"description\": \"\"\n      }\n    },\n    {\n      \"column\": \"img1_height\",\n      \"properties\": {\n        \"dtype\": \"number\",\n        \"std\": 0,\n        \"min\": 1080,\n        \"max\": 1080,\n        \"num_unique_values\": 1,\n        \"samples\": [\n          1080\n        ],\n        \"semantic_type\": \"\",\n        \"description\": \"\"\n      }\n    },\n    {\n      \"column\": \"img1_id\",\n      \"properties\": {\n        \"dtype\": \"number\",\n        \"std\": 3,\n        \"min\": 0,\n        \"max\": 8,\n        \"num_unique_values\": 5,\n        \"samples\": [\n          2\n        ],\n        \"semantic_type\": \"\",\n        \"description\": \"\"\n      }\n    },\n    {\n      \"column\": \"img1_file_name\",\n      \"properties\": {\n        \"dtype\": \"string\",\n        \"num_unique_values\": 5,\n        \"samples\": [\n          \"images\\\\b37d9d6f-2-1.png\"\n        ],\n        \"semantic_type\": \"\",\n        \"description\": \"\"\n      }\n    },\n    {\n      \"column\": \"pair_id\",\n      \"properties\": {\n        \"dtype\": \"string\",\n        \"num_unique_values\": 5,\n        \"samples\": [\n          \"2\"\n        ],\n        \"semantic_type\": \"\",\n        \"description\": \"\"\n      }\n    },\n    {\n      \"column\": \"img2_width\",\n      \"properties\": {\n        \"dtype\": \"number\",\n        \"std\": 0,\n        \"min\": 1920,\n        \"max\": 1920,\n        \"num_unique_values\": 1,\n        \"samples\": [\n          1920\n        ],\n        \"semantic_type\": \"\",\n        \"description\": \"\"\n      }\n    },\n    {\n      \"column\": \"img2_height\",\n      \"properties\": {\n        \"dtype\": \"number\",\n        \"std\": 0,\n        \"min\": 1080,\n        \"max\": 1080,\n        \"num_unique_values\": 1,\n        \"samples\": [\n          1080\n        ],\n        \"semantic_type\": \"\",\n        \"description\": \"\"\n      }\n    },\n    {\n      \"column\": \"img2_id\",\n      \"properties\": {\n        \"dtype\": \"number\",\n        \"std\": 3,\n        \"min\": 1,\n        \"max\": 9,\n        \"num_unique_values\": 5,\n        \"samples\": [\n          3\n        ],\n        \"semantic_type\": \"\",\n        \"description\": \"\"\n      }\n    },\n    {\n      \"column\": \"img2_file_name\",\n      \"properties\": {\n        \"dtype\": \"string\",\n        \"num_unique_values\": 5,\n        \"samples\": [\n          \"images\\\\631eb68f-2-2.png\"\n        ],\n        \"semantic_type\": \"\",\n        \"description\": \"\"\n      }\n    }\n  ]\n}"
            }
          },
          "metadata": {},
          "execution_count": 85
        }
      ]
    },
    {
      "cell_type": "code",
      "source": [
        "import json\n",
        "\n",
        "# First convert DataFrame to dictionary\n",
        "df_dict = paired_df.to_dict('records')\n",
        "\n",
        "# For nested structure, you might need to restructure the data\n",
        "# If your columns are like 'info_age' and 'info_city':\n",
        "nested_data = []\n",
        "for row in df_dict:\n",
        "    nested_row = {\n",
        "        'id': row['pair_id'],\n",
        "        'img1': {\n",
        "            'id': row['img1_id'],\n",
        "            'file_name': row['img1_file_name'],\n",
        "            'width': row['img1_width'],\n",
        "            'height': row['img1_height']\n",
        "        },\n",
        "        'img2': {\n",
        "            'id': row['img2_id'],\n",
        "            'file_name': row['img2_file_name'],\n",
        "            'width': row['img2_width'],\n",
        "            'height': row['img2_height']\n",
        "        }\n",
        "    }\n",
        "    nested_data.append(nested_row)\n",
        "\n",
        "# Save to file with nice formatting\n",
        "with open('/content/drive/MyDrive/thesis/paired_images.json', 'w') as f:\n",
        "    json.dump(nested_data, f, indent=4)"
      ],
      "metadata": {
        "id": "wVgeX6qOKlPF"
      },
      "execution_count": null,
      "outputs": []
    },
    {
      "cell_type": "markdown",
      "source": [
        "###Draw bounding boxes and save as _mark"
      ],
      "metadata": {
        "id": "-Te5IahYBCkq"
      }
    },
    {
      "cell_type": "code",
      "source": [
        "Images = images_df\n",
        "Annotations = annotations_df\n",
        "#Categories = categories_df\n",
        "Images"
      ],
      "metadata": {
        "id": "JnNpXljrBQ12"
      },
      "execution_count": null,
      "outputs": []
    },
    {
      "cell_type": "code",
      "source": [
        "import os\n",
        "import cv2\n",
        "import pandas as pd\n",
        "import ast\n",
        "\n",
        "# Base path in Google Colab\n",
        "base_path = \"/content/drive/MyDrive/thesis\"\n",
        "\n",
        "# Assuming the DataFrames Images, Categories, Annotations are already loaded\n",
        "\n",
        "for _, image_row in Images.iterrows():\n",
        "    image_id = image_row['id']\n",
        "    file_name = image_row['file_name']\n",
        "\n",
        "    # Correct file path separators for Linux environment in Colab\n",
        "    corrected_file_name = file_name.replace('\\\\', '/')\n",
        "    full_image_path = os.path.join(base_path, corrected_file_name)\n",
        "\n",
        "    # Read the image using OpenCV\n",
        "    img = cv2.imread(full_image_path)\n",
        "    if img is None:\n",
        "        print(f\"Warning: Could not read image at {full_image_path}. Skipping...\")\n",
        "        continue\n",
        "\n",
        "    # Get annotations for the current image with category_id 0\n",
        "    annotations = Annotations[(Annotations['image_id'] == image_id) & (Annotations['category_id'] == 0)]\n",
        "\n",
        "    # Draw each bounding box\n",
        "    for _, ann in annotations.iterrows():\n",
        "        bbox = ann['bbox']\n",
        "        # Convert string representation of list to actual list if necessary\n",
        "        if isinstance(bbox, str):\n",
        "            bbox = ast.literal_eval(bbox)\n",
        "        # Ensure the bbox has at least 4 elements (x, y, width, height)\n",
        "        if len(bbox) < 4:\n",
        "            print(f\"Invalid bbox {bbox} for annotation {ann['id']}. Skipping...\")\n",
        "            continue\n",
        "        x, y, w, h = map(int, bbox[:4])\n",
        "        # Draw the rectangle on the image\n",
        "        cv2.rectangle(img, (x, y), (x + w, y + h), (0, 0, 255), 4)\n",
        "\n",
        "    # Construct the new file name with _mark\n",
        "    original_name, extension = os.path.splitext(corrected_file_name)\n",
        "    new_file_name = f\"{original_name}_mark{extension}\"\n",
        "    full_save_path = os.path.join(base_path, new_file_name)\n",
        "\n",
        "    # Ensure the directory exists\n",
        "    os.makedirs(os.path.dirname(full_save_path), exist_ok=True)\n",
        "\n",
        "    # Save the image\n",
        "    if not cv2.imwrite(full_save_path, img):\n",
        "        print(f\"Failed to save image at {full_save_path}\")\n",
        "\n",
        "print(\"Processing complete.\")"
      ],
      "metadata": {
        "colab": {
          "base_uri": "https://localhost:8080/"
        },
        "id": "lyaa6cQRBB1w",
        "outputId": "e9305345-f37a-4387-c19e-d1324eb0640c"
      },
      "execution_count": null,
      "outputs": [
        {
          "output_type": "stream",
          "name": "stdout",
          "text": [
            "Processing complete.\n"
          ]
        }
      ]
    },
    {
      "cell_type": "markdown",
      "source": [
        "##Generation"
      ],
      "metadata": {
        "id": "mV9kuTT0BIZv"
      }
    },
    {
      "cell_type": "code",
      "source": [
        "!pip install -U langchain langchain-anthropic"
      ],
      "metadata": {
        "id": "dqpM5BzKXp_O",
        "colab": {
          "base_uri": "https://localhost:8080/"
        },
        "outputId": "4aeef7ac-d800-45b9-e1b0-b920d6ab602a"
      },
      "execution_count": 5,
      "outputs": [
        {
          "output_type": "stream",
          "name": "stdout",
          "text": [
            "Requirement already satisfied: langchain in /usr/local/lib/python3.11/dist-packages (0.3.16)\n",
            "Collecting langchain\n",
            "  Downloading langchain-0.3.17-py3-none-any.whl.metadata (7.1 kB)\n",
            "Collecting langchain-anthropic\n",
            "  Downloading langchain_anthropic-0.3.6-py3-none-any.whl.metadata (2.3 kB)\n",
            "Requirement already satisfied: PyYAML>=5.3 in /usr/local/lib/python3.11/dist-packages (from langchain) (6.0.2)\n",
            "Requirement already satisfied: SQLAlchemy<3,>=1.4 in /usr/local/lib/python3.11/dist-packages (from langchain) (2.0.37)\n",
            "Requirement already satisfied: aiohttp<4.0.0,>=3.8.3 in /usr/local/lib/python3.11/dist-packages (from langchain) (3.11.11)\n",
            "Collecting langchain-core<0.4.0,>=0.3.33 (from langchain)\n",
            "  Downloading langchain_core-0.3.33-py3-none-any.whl.metadata (6.3 kB)\n",
            "Requirement already satisfied: langchain-text-splitters<0.4.0,>=0.3.3 in /usr/local/lib/python3.11/dist-packages (from langchain) (0.3.5)\n",
            "Requirement already satisfied: langsmith<0.4,>=0.1.17 in /usr/local/lib/python3.11/dist-packages (from langchain) (0.3.2)\n",
            "Requirement already satisfied: numpy<2,>=1.22.4 in /usr/local/lib/python3.11/dist-packages (from langchain) (1.26.4)\n",
            "Requirement already satisfied: pydantic<3.0.0,>=2.7.4 in /usr/local/lib/python3.11/dist-packages (from langchain) (2.10.6)\n",
            "Requirement already satisfied: requests<3,>=2 in /usr/local/lib/python3.11/dist-packages (from langchain) (2.32.3)\n",
            "Requirement already satisfied: tenacity!=8.4.0,<10,>=8.1.0 in /usr/local/lib/python3.11/dist-packages (from langchain) (9.0.0)\n",
            "Collecting anthropic<1,>=0.45.0 (from langchain-anthropic)\n",
            "  Downloading anthropic-0.45.2-py3-none-any.whl.metadata (23 kB)\n",
            "Requirement already satisfied: defusedxml<0.8.0,>=0.7.1 in /usr/local/lib/python3.11/dist-packages (from langchain-anthropic) (0.7.1)\n",
            "Requirement already satisfied: aiohappyeyeballs>=2.3.0 in /usr/local/lib/python3.11/dist-packages (from aiohttp<4.0.0,>=3.8.3->langchain) (2.4.4)\n",
            "Requirement already satisfied: aiosignal>=1.1.2 in /usr/local/lib/python3.11/dist-packages (from aiohttp<4.0.0,>=3.8.3->langchain) (1.3.2)\n",
            "Requirement already satisfied: attrs>=17.3.0 in /usr/local/lib/python3.11/dist-packages (from aiohttp<4.0.0,>=3.8.3->langchain) (25.1.0)\n",
            "Requirement already satisfied: frozenlist>=1.1.1 in /usr/local/lib/python3.11/dist-packages (from aiohttp<4.0.0,>=3.8.3->langchain) (1.5.0)\n",
            "Requirement already satisfied: multidict<7.0,>=4.5 in /usr/local/lib/python3.11/dist-packages (from aiohttp<4.0.0,>=3.8.3->langchain) (6.1.0)\n",
            "Requirement already satisfied: propcache>=0.2.0 in /usr/local/lib/python3.11/dist-packages (from aiohttp<4.0.0,>=3.8.3->langchain) (0.2.1)\n",
            "Requirement already satisfied: yarl<2.0,>=1.17.0 in /usr/local/lib/python3.11/dist-packages (from aiohttp<4.0.0,>=3.8.3->langchain) (1.18.3)\n",
            "Requirement already satisfied: anyio<5,>=3.5.0 in /usr/local/lib/python3.11/dist-packages (from anthropic<1,>=0.45.0->langchain-anthropic) (3.7.1)\n",
            "Requirement already satisfied: distro<2,>=1.7.0 in /usr/local/lib/python3.11/dist-packages (from anthropic<1,>=0.45.0->langchain-anthropic) (1.9.0)\n",
            "Requirement already satisfied: httpx<1,>=0.23.0 in /usr/local/lib/python3.11/dist-packages (from anthropic<1,>=0.45.0->langchain-anthropic) (0.28.1)\n",
            "Requirement already satisfied: jiter<1,>=0.4.0 in /usr/local/lib/python3.11/dist-packages (from anthropic<1,>=0.45.0->langchain-anthropic) (0.8.2)\n",
            "Requirement already satisfied: sniffio in /usr/local/lib/python3.11/dist-packages (from anthropic<1,>=0.45.0->langchain-anthropic) (1.3.1)\n",
            "Requirement already satisfied: typing-extensions<5,>=4.10 in /usr/local/lib/python3.11/dist-packages (from anthropic<1,>=0.45.0->langchain-anthropic) (4.12.2)\n",
            "Requirement already satisfied: jsonpatch<2.0,>=1.33 in /usr/local/lib/python3.11/dist-packages (from langchain-core<0.4.0,>=0.3.33->langchain) (1.33)\n",
            "Requirement already satisfied: packaging<25,>=23.2 in /usr/local/lib/python3.11/dist-packages (from langchain-core<0.4.0,>=0.3.33->langchain) (24.2)\n",
            "Requirement already satisfied: orjson<4.0.0,>=3.9.14 in /usr/local/lib/python3.11/dist-packages (from langsmith<0.4,>=0.1.17->langchain) (3.10.15)\n",
            "Requirement already satisfied: requests-toolbelt<2.0.0,>=1.0.0 in /usr/local/lib/python3.11/dist-packages (from langsmith<0.4,>=0.1.17->langchain) (1.0.0)\n",
            "Requirement already satisfied: zstandard<0.24.0,>=0.23.0 in /usr/local/lib/python3.11/dist-packages (from langsmith<0.4,>=0.1.17->langchain) (0.23.0)\n",
            "Requirement already satisfied: annotated-types>=0.6.0 in /usr/local/lib/python3.11/dist-packages (from pydantic<3.0.0,>=2.7.4->langchain) (0.7.0)\n",
            "Requirement already satisfied: pydantic-core==2.27.2 in /usr/local/lib/python3.11/dist-packages (from pydantic<3.0.0,>=2.7.4->langchain) (2.27.2)\n",
            "Requirement already satisfied: charset-normalizer<4,>=2 in /usr/local/lib/python3.11/dist-packages (from requests<3,>=2->langchain) (3.4.1)\n",
            "Requirement already satisfied: idna<4,>=2.5 in /usr/local/lib/python3.11/dist-packages (from requests<3,>=2->langchain) (3.10)\n",
            "Requirement already satisfied: urllib3<3,>=1.21.1 in /usr/local/lib/python3.11/dist-packages (from requests<3,>=2->langchain) (2.3.0)\n",
            "Requirement already satisfied: certifi>=2017.4.17 in /usr/local/lib/python3.11/dist-packages (from requests<3,>=2->langchain) (2024.12.14)\n",
            "Requirement already satisfied: greenlet!=0.4.17 in /usr/local/lib/python3.11/dist-packages (from SQLAlchemy<3,>=1.4->langchain) (3.1.1)\n",
            "Requirement already satisfied: httpcore==1.* in /usr/local/lib/python3.11/dist-packages (from httpx<1,>=0.23.0->anthropic<1,>=0.45.0->langchain-anthropic) (1.0.7)\n",
            "Requirement already satisfied: h11<0.15,>=0.13 in /usr/local/lib/python3.11/dist-packages (from httpcore==1.*->httpx<1,>=0.23.0->anthropic<1,>=0.45.0->langchain-anthropic) (0.14.0)\n",
            "Requirement already satisfied: jsonpointer>=1.9 in /usr/local/lib/python3.11/dist-packages (from jsonpatch<2.0,>=1.33->langchain-core<0.4.0,>=0.3.33->langchain) (3.0.0)\n",
            "Downloading langchain-0.3.17-py3-none-any.whl (1.0 MB)\n",
            "\u001b[2K   \u001b[90m━━━━━━━━━━━━━━━━━━━━━━━━━━━━━━━━━━━━━━━━\u001b[0m \u001b[32m1.0/1.0 MB\u001b[0m \u001b[31m37.3 MB/s\u001b[0m eta \u001b[36m0:00:00\u001b[0m\n",
            "\u001b[?25hDownloading langchain_anthropic-0.3.6-py3-none-any.whl (22 kB)\n",
            "Downloading anthropic-0.45.2-py3-none-any.whl (222 kB)\n",
            "\u001b[2K   \u001b[90m━━━━━━━━━━━━━━━━━━━━━━━━━━━━━━━━━━━━━━━━\u001b[0m \u001b[32m222.8/222.8 kB\u001b[0m \u001b[31m16.7 MB/s\u001b[0m eta \u001b[36m0:00:00\u001b[0m\n",
            "\u001b[?25hDownloading langchain_core-0.3.33-py3-none-any.whl (412 kB)\n",
            "\u001b[2K   \u001b[90m━━━━━━━━━━━━━━━━━━━━━━━━━━━━━━━━━━━━━━━━\u001b[0m \u001b[32m412.7/412.7 kB\u001b[0m \u001b[31m23.6 MB/s\u001b[0m eta \u001b[36m0:00:00\u001b[0m\n",
            "\u001b[?25hInstalling collected packages: anthropic, langchain-core, langchain-anthropic, langchain\n",
            "  Attempting uninstall: langchain-core\n",
            "    Found existing installation: langchain-core 0.3.32\n",
            "    Uninstalling langchain-core-0.3.32:\n",
            "      Successfully uninstalled langchain-core-0.3.32\n",
            "  Attempting uninstall: langchain\n",
            "    Found existing installation: langchain 0.3.16\n",
            "    Uninstalling langchain-0.3.16:\n",
            "      Successfully uninstalled langchain-0.3.16\n",
            "Successfully installed anthropic-0.45.2 langchain-0.3.17 langchain-anthropic-0.3.6 langchain-core-0.3.33\n"
          ]
        }
      ]
    },
    {
      "cell_type": "code",
      "source": [
        "import os\n",
        "from google.colab import userdata\n",
        "os.environ['LANGSMITH_TRACING'] = \"true\"\n",
        "os.environ['LANGSMITH_ENDPOINT'] =\"https://api.smith.langchain.com\"\n",
        "os.environ['LANGSMITH_API_KEY'] = userdata.get('LANGSMITH_API_KEY')\n",
        "os.environ['LANGSMITH_PROJECT'] = \"thesis-jupyter\"\n",
        "os.environ['ANTHROPIC_API_KEY'] = userdata.get('ANTHROPIC_API_KEY')"
      ],
      "metadata": {
        "id": "SyixA3tHRELF"
      },
      "execution_count": 6,
      "outputs": []
    },
    {
      "cell_type": "code",
      "source": [
        "from langchain_anthropic import ChatAnthropic\n",
        "llm = ChatAnthropic(model=\"claude-3-5-sonnet-20241022\", max_tokens=4092)"
      ],
      "metadata": {
        "id": "OVn4TWQYgroh"
      },
      "execution_count": 15,
      "outputs": []
    },
    {
      "cell_type": "code",
      "source": [
        "from langsmith import Client\n",
        "\n",
        "client = Client()\n",
        "\n",
        "prompt = client.pull_prompt(\"naive-prompt\")\n",
        "prompt"
      ],
      "metadata": {
        "id": "1OMRE7RbrbS9",
        "colab": {
          "base_uri": "https://localhost:8080/"
        },
        "outputId": "b0e8ad55-3e49-48bd-c332-67e2db08418d"
      },
      "execution_count": 22,
      "outputs": [
        {
          "output_type": "execute_result",
          "data": {
            "text/plain": [
              "ChatPromptTemplate(input_variables=['SCREENSHOT_1', 'SCREENSHOT_2'], input_types={}, partial_variables={}, metadata={'lc_hub_owner': '-', 'lc_hub_repo': 'naive-prompt', 'lc_hub_commit_hash': 'a87c860154b7da8d2e0b89257b3b0b3b66ae266ca82363c85445ea58f1cd88f7'}, messages=[SystemMessagePromptTemplate(prompt=PromptTemplate(input_variables=[], input_types={}, partial_variables={}, template=''), additional_kwargs={}), HumanMessagePromptTemplate(prompt=[PromptTemplate(input_variables=[], input_types={}, partial_variables={}, template='I want to create React component(s) from screenshots. You should use React, TailwindCSS and Javascript. Here are the screenshots:'), ImagePromptTemplate(input_variables=['SCREENSHOT_1'], input_types={}, partial_variables={}, template={'url': '{SCREENSHOT_1}'}), ImagePromptTemplate(input_variables=['SCREENSHOT_2'], input_types={}, partial_variables={}, template={'url': '{SCREENSHOT_2}'}), PromptTemplate(input_variables=[], input_types={}, partial_variables={}, template=''), PromptTemplate(input_variables=[], input_types={}, partial_variables={}, template='The component I want to create is inside the red bounding box. The images show before and after states after interacting with some element. In addition to this element you should also infer as much as interactive elements as possible.'), PromptTemplate(input_variables=[], input_types={}, partial_variables={}, template='Visually the component should look exactly like the images. Write the code fully without placeholders. Try not to use too much libraries you can use heroicons and headlessUI. Set id=\"interact*\" to the interactive elements, where * is a increasing number.'), PromptTemplate(input_variables=[], input_types={}, partial_variables={}, template=''), PromptTemplate(input_variables=[], input_types={}, partial_variables={}, template='. Image Handling:'), PromptTemplate(input_variables=[], input_types={}, partial_variables={}, template='   - Replace ALL images with <img src=\"https://placehold.co/widthxheight\" />'), PromptTemplate(input_variables=[], input_types={}, partial_variables={}, template='   - Set height and width attributes based on the proportions shown in the screenshots'), PromptTemplate(input_variables=[], input_types={}, partial_variables={}, template='   - Example: if an image appears to be 200x150 pixels, use:'), PromptTemplate(input_variables=[], input_types={}, partial_variables={}, template='     <img src=\"https://placehold.co/200x150\" width=\"200\" height=\"150\"/>'), PromptTemplate(input_variables=[], input_types={}, partial_variables={}, template=''), PromptTemplate(input_variables=[], input_types={}, partial_variables={}, template='Important:'), PromptTemplate(input_variables=[], input_types={}, partial_variables={}, template='Always combine everything in a default export at the end of the file.'), PromptTemplate(input_variables=[], input_types={}, partial_variables={}, template='Provide ONLY the complete GeneratedComponent.jsx code in your response, with no additional explanation or comments')], additional_kwargs={})])"
            ]
          },
          "metadata": {},
          "execution_count": 22
        }
      ]
    },
    {
      "cell_type": "code",
      "source": [
        "from pydantic import BaseModel, Field\n",
        "class ResponseFormatter(BaseModel):\n",
        "    \"\"\"Always use this tool to structure your response to the user.\"\"\"\n",
        "    code: str = Field(description=\"Generated code in one-line string format\")\n"
      ],
      "metadata": {
        "id": "GhTTZNrN8VPy"
      },
      "execution_count": null,
      "outputs": []
    },
    {
      "cell_type": "code",
      "source": [
        "model_generate_code = llm#.bind_tools([ResponseFormatter])"
      ],
      "metadata": {
        "id": "jL6ohrGzE0DC"
      },
      "execution_count": 23,
      "outputs": []
    },
    {
      "cell_type": "code",
      "source": [
        "import base64\n",
        "from mimetypes import guess_type\n",
        "import os\n",
        "\n",
        "def get_full_img_path(img_file_name, mark=True):\n",
        "      corrected_file_name = img_file_name.replace('\\\\', '/')\n",
        "\n",
        "      if mark:\n",
        "        name, ext = os.path.splitext(corrected_file_name)  # Split into name and extension\n",
        "        corrected_file_name = f\"{name}_mark{ext}\"  # Add _mark before extension\n",
        "\n",
        "      full_image_path = os.path.join(base_path, corrected_file_name)\n",
        "      return full_image_path\n",
        "\n",
        "# Function to encode a local image into data URL\n",
        "def local_image_to_data_url(image_path):\n",
        "    mime_type, _ = guess_type(image_path)\n",
        "    # Default to png\n",
        "    if mime_type is None:\n",
        "        mime_type = 'image/png'\n",
        "\n",
        "    # Read and encode the image file\n",
        "    with open(image_path, \"rb\") as image_file:\n",
        "        base64_encoded_data = base64.b64encode(image_file.read()).decode('utf-8')\n",
        "\n",
        "    # Construct the data URL\n",
        "    return f\"data:{mime_type};base64,{base64_encoded_data}\"\n",
        "\n"
      ],
      "metadata": {
        "id": "SN-uEStJrjb8"
      },
      "execution_count": 24,
      "outputs": []
    },
    {
      "cell_type": "code",
      "source": [
        "chain = prompt | model_generate_code"
      ],
      "metadata": {
        "id": "wZNEcMTGqJ8i"
      },
      "execution_count": 25,
      "outputs": []
    },
    {
      "cell_type": "code",
      "source": [
        "import uuid\n",
        "import json\n",
        "import os\n",
        "\n",
        "class Generation:\n",
        "    def __init__(self, pair_id, gen_type, llm_response):\n",
        "        self.id = str(uuid.uuid4())\n",
        "        self.pair_id = pair_id\n",
        "        self.gen_type = gen_type\n",
        "        self.llm_responses = [llm_response]\n",
        "\n",
        "    def to_dict(self):\n",
        "        return {\n",
        "            \"id\": self.id,\n",
        "            \"pair_id\": self.pair_id,\n",
        "            \"type\": self.gen_type,\n",
        "            \"llm_responses\": self.llm_responses\n",
        "        }\n",
        "\n",
        "def load_generations(filename=\"generations.json\"):\n",
        "    filename = os.path.join(base_path,filename)\n",
        "    if os.path.exists(filename):\n",
        "        with open(filename, \"r\") as f:\n",
        "            try:\n",
        "                return json.load(f)\n",
        "            except json.JSONDecodeError:\n",
        "                return []\n",
        "    else:\n",
        "        return []\n",
        "\n",
        "def save_generations(generations, filename=\"generations.json\"):\n",
        "    with open(os.path.join(base_path,filename), \"w\") as f:\n",
        "        json.dump(generations, f, indent=4)"
      ],
      "metadata": {
        "id": "IOZozpDXZEgL"
      },
      "execution_count": 26,
      "outputs": []
    },
    {
      "cell_type": "code",
      "source": [
        "paired = images_df.iloc[2:]\n",
        "for _, image_row in paired.iterrows():\n",
        "    img1_path = get_full_img_path(image_row['img1_file_name'])\n",
        "    img2_path = get_full_img_path(image_row['img2_file_name'])\n",
        "    img1_data = local_image_to_data_url(img1_path)\n",
        "    img2_data = local_image_to_data_url(img2_path)\n",
        "    img_pair_id = image_row['id']\n",
        "\n",
        "    response = chain.invoke({\"SCREENSHOT_1\": img1_data, \"SCREENSHOT_2\": img2_data}, config={\"img_pair_id\": img_pair_id})\n",
        "    response_json = response.to_json()\n",
        "    response_json[\"content_type\"] = \"code\"\n",
        "\n",
        "    new_generation = Generation(img_pair_id, \"naive\", response_json)\n",
        "\n",
        "    # Load current data\n",
        "    generations = load_generations()\n",
        "\n",
        "    # Append new generation\n",
        "    generations.append(new_generation.to_dict())\n",
        "\n",
        "    # Save back to file\n",
        "    save_generations(generations)\n",
        "\n",
        "    print(f\"Saved generation {img_pair_id}\")"
      ],
      "metadata": {
        "colab": {
          "base_uri": "https://localhost:8080/"
        },
        "id": "5kw1cbdoFlej",
        "outputId": "b7124893-ef44-4783-8280-d847ce188514"
      },
      "execution_count": 29,
      "outputs": [
        {
          "output_type": "stream",
          "name": "stdout",
          "text": [
            "Saved generation 3\n",
            "Saved generation 4\n",
            "Saved generation 5\n",
            "Saved generation 6\n",
            "Saved generation 7\n",
            "Saved generation 8\n",
            "Saved generation 9\n",
            "Saved generation 10\n",
            "Saved generation 11\n",
            "Saved generation 12\n",
            "Saved generation 13\n",
            "Saved generation 14\n",
            "Saved generation 15\n",
            "Saved generation 16\n",
            "Saved generation 17\n",
            "Saved generation 18\n",
            "Saved generation 19\n",
            "Saved generation 20\n"
          ]
        }
      ]
    },
    {
      "cell_type": "markdown",
      "source": [
        "###temp tests2"
      ],
      "metadata": {
        "id": "Ziu5_Gl0zmw0"
      }
    },
    {
      "cell_type": "code",
      "source": [
        "chain = prompt | model_generate_code\n",
        "response = chain.invoke({\"SCREENSHOT_INITIAL\": img1_data, \"SCREENSHOT_AFTER_INTERACTION\": img2_data}, config={\"img_pair_id\": img_pair_id})\n",
        "response"
      ],
      "metadata": {
        "id": "NKy1u_NZ2UNy"
      },
      "execution_count": null,
      "outputs": []
    },
    {
      "cell_type": "code",
      "source": [
        "prompt.to_json()"
      ],
      "metadata": {
        "id": "x_vL3RwuYCo7"
      },
      "execution_count": null,
      "outputs": []
    },
    {
      "cell_type": "code",
      "source": [
        "response_json = response.to_json()\n",
        "response_json[\"content_type\"] = \"code\"\n",
        "response_json"
      ],
      "metadata": {
        "id": "SjGNP14aXBHY"
      },
      "execution_count": null,
      "outputs": []
    },
    {
      "cell_type": "markdown",
      "source": [
        "###temp tests"
      ],
      "metadata": {
        "id": "JRbb8CogbDaf"
      }
    },
    {
      "cell_type": "code",
      "source": [
        "from langchain_core.messages import HumanMessage\n",
        "message = HumanMessage(content=[\n",
        "        {\"type\": \"text\", \"text\": \"What is in this image?\"},\n",
        "        {\n",
        "            \"type\": \"image_url\",\n",
        "            \"image_url\": {\"url\": f\"data:image/png;base64,{image_data}\"},\n",
        "        },\n",
        "    ],\n",
        ")\n",
        "message"
      ],
      "metadata": {
        "colab": {
          "base_uri": "https://localhost:8080/"
        },
        "id": "A6IgXyBJg3LE",
        "outputId": "480651a8-dfa0-4bdd-de7d-634530b50f98"
      },
      "execution_count": null,
      "outputs": [
        {
          "output_type": "execute_result",
          "data": {
            "text/plain": [
              "HumanMessage(content=[{'type': 'text', 'text': 'What is in this image?'}, {'type': 'image_url', 'image_url': {'url': 'data:image/png;base64,iVBORw0KGgoAAAANSUhEUgAAAEAAAABDCAYAAAAs/QNwAAAAAXNSR0IArs4c6QAAAARnQU1BAACxjwv8YQUAAAAJcEhZcwAAFiUAABYlAUlSJPAAAAbLSURBVHhe7Zh5UFdVFMcPIPwEWWRTREJtzCYplEYFxbSgEkcFFJeUf3LfSgU0ARGBLAGTJcAlUUlk0bEJ0BJxaTIx/8slTBxLTUBwINkEEcfXPYf7fj0Wyfg9fpPz3mfmN/e8+3g/fuf7zj3n3GsgMEDBGPJRsagC8FGxqALwUbGoAvBRsagC8FGxqALwUbGoAvBRsagC8FGxqALwUbGoAvBRsej9TPB8cTFEfxrDrzozcMAASEpMBDtbOz7Tu+g9Au78eYdbXdP48CFUV9fwq95H7wJUV1dzq2taWlqgoaGBX/U+ehUAV5vonIGBAcRERcGpwpP0mT5tGs0/efIEmpqayNYHvSJAXn4+rFi9itY7OiTS2NgIVffvk21mZgbW1jZkI3Z2/6z5W7dukVgidfV1kJ2TA4uWLoE/2D05kT0J3rt3DzaGh9GIoKNTfXzAZaQLpO9Lhwo+b29vD8kJiTQi0uSI0eE+bhz4zvCFo98chUuXL8PTp0/pnreXF6wPDoE+ffrQta7IKgB+VWpaGhQcP8Znns0rw4dD3LZYsLCwoOvLV67Aps0RlAO6w9jYGKIit8C4sWP5jG7IugRKb9yAMz+cJdvQ0BDMzc3JloIOr/14DezY/oXWeWSUqyvs25sOU6f40LNSpN/V2toKObm50NTcTNe6IpsALY9b4GDmQXjIyhgy3sMDcrOzIYE5+qabGzkxedIkyMz4mhKeqakp/Z0U7AGCg4IgLSUFBg0aRMvH388PDrJnUpKTwdbWlv6u5FoJFBUVka0rsi2BH8+dg9j4OEp6lpaWsG3rZzBixAh+t628YfhK3y6KhlXB0MCQnpGua7yHaEw0NCK5hw/D/owDtNQcHR0hPjaORNMFWSLgrwcPIPNQpjbjW1pYgqZvX7JFNBqN1vmamhqIiokGX39/mB8YCPMWzAffmf6QkpoKzTy00XGp8+i0g4MDmJiY0HVFRQUcOXKkXbXoCbIIYMqcdXFxoeyNlJWXwdqgdXDm7JlOP7CyshJCPtkAxRcuaDM7gmsbk2dEZCSVSykYDWm7dsLnsdu0SbJfv34wcuRrZOuCURSD2z0GQ9vD3R0Gs7D85dIlcgY/6GRVVRWMHTMGjIyMKEISkhLZGr7Gn+xM1f0qWhJuLG8gKNjGsDC4ePEiXSMvDxtGS8xttJtW9J4iWxLEH+Lt5Q1JOxLgJScnmsO339DQqA39srIy+LWkhOzuKP75AtTW1pKNUSLabf/DC5JY/+Ds7ExzuiKbACJDhw4FP18/fgXQly0PMbmVlZdDXV0d2d2BOaKSRQ5iojEBY/48JsoP5s7rsoL0FNkFeNGQXYDbt29DfkE+vwJ49OiRtjo4DR4MVlZWZHcH1nuHgQPJftzyGFr58/X19XD8+++0JVIOZBMA1ztm/XUhwXCXrXUE16w92+SI2d6J5YbXWbX4NzzHT4D+/fuTjflDtPF/5BcUQFBwsHavoSuyNEJYu3d/tQdOFBZqyx6WqZCgYJjo6dkuU2NWD90UDuUsH3SF6xuuEL1lS7s2Gt/43vR0KDh27F+//78iSwQ0szAvYdld/HGYoXempMJbEyd2+nHYzOyI3w6eEya06wqxlPpOnwFbY2I67SGwIVq9chWEh4ZRQ4Vgy11aWkq2LuitFcZDDqwIz9sKYx+B4knnpK3wECZyfFw82Fhb87s9Q7Yc4OHhzhqT0WRjssrOzSEHr169yhqZUJg5O4A6OXGzhOCbxcNPGxubdo7e/P0mLF62FALmzqEOEA9RsLvMY8kVnUdh5syeo7PziKznAddZSIaGh5GT+KZxN9exrcUt8KIPF1JD07Geo6NZWVlw8lRRuza543eNHjUKoqOiwUyGfkC2CEBeZSHv/Y4X2ehAR+cRDPnklC8hZMN67fkgggcii5cugRMnC9s5j0i/C0ULXBAoi/OIrAJgaM4OCKC9vAi+uYBZsyAyYjM4SuZxmUjrOba74kYHvwf3FviMeJYg8vakyc9VSp8bXAJy821enrB81Urhp/PnBZbM+KwgMKeFj9auEd6d8r7gN2um8Nv16/yOIBzKzqJ5/BzIyBDYW+d3BKG2rlbYtWe3sHDJYuFu2V0+Kw+yRoAInuLsTttJNVqa3LC8iQcYHc//pX3BMLbbk5ZPK0srWLFsOezfm866ybaNllz0igDPAp0SzwGxXIZHbIL3fKbQ59Tp0zSPguGy0Rd6FQCRnv93BTY60sPS3kbvAgxxHsKtrjFnLa6dXdvhpz6QtQ94EdF7BPzfUAXgo2JRBeCjYlEF4KNiUQXgo2JRBeCjYlEF4KNiUQXgo2JRuAAAfwNKBH5Z3MecEQAAAABJRU5ErkJggg=='}}], additional_kwargs={}, response_metadata={})"
            ]
          },
          "metadata": {},
          "execution_count": 20
        }
      ]
    },
    {
      "cell_type": "code",
      "source": [
        "llm.invoke([message], config={\"component_id\": \"test\"})"
      ],
      "metadata": {
        "colab": {
          "base_uri": "https://localhost:8080/"
        },
        "id": "IqeszPf8hQT4",
        "outputId": "d0d60b64-680e-4bf8-e3bb-0afe059a49aa"
      },
      "execution_count": null,
      "outputs": [
        {
          "output_type": "execute_result",
          "data": {
            "text/plain": [
              "AIMessage(content=\"This image shows a simple gear or cog icon/symbol. It's a common symbol used to represent settings, tools, configurations, or mechanical/technical functions in user interfaces and applications.\", additional_kwargs={}, response_metadata={'id': 'msg_012ZzLTuwT7imqqZrxS2tLDr', 'model': 'claude-3-5-sonnet-20241022', 'stop_reason': 'end_turn', 'stop_sequence': None, 'usage': {'cache_creation_input_tokens': 0, 'cache_read_input_tokens': 0, 'input_tokens': 25, 'output_tokens': 41}}, id='run-cca685a6-3fe6-4521-86c4-80073141300a-0', usage_metadata={'input_tokens': 25, 'output_tokens': 41, 'total_tokens': 66, 'input_token_details': {'cache_read': 0, 'cache_creation': 0}})"
            ]
          },
          "metadata": {},
          "execution_count": 22
        }
      ]
    }
  ]
}